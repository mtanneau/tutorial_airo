{
 "cells": [
  {
   "cell_type": "markdown",
   "metadata": {
    "slideshow": {
     "slide_type": "slide"
    }
   },
   "source": [
    "# Unit testing"
   ]
  },
  {
   "cell_type": "markdown",
   "metadata": {
    "slideshow": {
     "slide_type": "fragment"
    }
   },
   "source": [
    "<img src=\"img/xkcd_futureSelf.png\">"
   ]
  },
  {
   "cell_type": "markdown",
   "metadata": {
    "slideshow": {
     "slide_type": "subslide"
    }
   },
   "source": [
    "## Unit tests in a nutshell\n",
    "\n",
    "**What is unit testing?**\n",
    "\n",
    "A way to systematically test individual pieces of your code.\n",
    "\n",
    "\n",
    "**Who uses it?**\n",
    "\n",
    "Any decent programmer.\n",
    "\n",
    "\n",
    "**Why is it useful?**\n",
    "\n",
    "It allows you to quickly spot bugs and unexpected behaviour, especially at later stages of a project.\n",
    "\n",
    "**How does it work?**\n",
    "\n",
    "See below :)"
   ]
  },
  {
   "cell_type": "markdown",
   "metadata": {
    "slideshow": {
     "slide_type": "slide"
    }
   },
   "source": [
    "# Writing tests"
   ]
  },
  {
   "cell_type": "markdown",
   "metadata": {
    "slideshow": {
     "slide_type": "-"
    }
   },
   "source": [
    "Our code includes a function that takes two vectors $X$ and $Y$, two scalars $a$ and $b$, and computes the weighted sum $Z = aX + b Y$.\n",
    "\n",
    "This function will be called `weighted_sum`."
   ]
  },
  {
   "cell_type": "code",
   "execution_count": 1,
   "metadata": {
    "slideshow": {
     "slide_type": "skip"
    }
   },
   "outputs": [],
   "source": [
    "using LinearAlgebra\n",
    "using Test"
   ]
  },
  {
   "cell_type": "markdown",
   "metadata": {
    "slideshow": {
     "slide_type": "subslide"
    }
   },
   "source": [
    "We know what the `weigthed_sum` behaviour should be, so we can write a test for it.\n",
    "\n",
    "The unit test will take two pairs of vectors and scalars, compute their weighted sum, and check the result."
   ]
  },
  {
   "cell_type": "code",
   "execution_count": 2,
   "metadata": {
    "slideshow": {
     "slide_type": "fragment"
    }
   },
   "outputs": [
    {
     "data": {
      "text/plain": [
       "test_ws"
      ]
     },
     "execution_count": 2,
     "metadata": {},
     "output_type": "execute_result"
    }
   ],
   "source": [
    "\"\"\"\n",
    "    test_ws()\n",
    "\n",
    "Perform a simple test of the `weighted_sum` function\n",
    "\"\"\"\n",
    "function test_ws()\n",
    "    \n",
    "    # Create some arbitrary data\n",
    "    a = 1.0\n",
    "    b = 2.0\n",
    "    X = [1.0, 1.0]\n",
    "    Y = [4.0, 5.0]\n",
    "\n",
    "    # Run the function on that test example\n",
    "    Z = weighted_sum(a, X, b, Y)\n",
    "\n",
    "    # Check that result is correct\n",
    "    @test Z == [9.0, 11.0]\n",
    "end"
   ]
  },
  {
   "cell_type": "markdown",
   "metadata": {
    "slideshow": {
     "slide_type": "subslide"
    }
   },
   "source": [
    "Initially, the test fails, because the function does not exist yet"
   ]
  },
  {
   "cell_type": "code",
   "execution_count": 3,
   "metadata": {
    "slideshow": {
     "slide_type": "fragment"
    }
   },
   "outputs": [
    {
     "ename": "UndefVarError",
     "evalue": "UndefVarError: weighted_sum not defined",
     "output_type": "error",
     "traceback": [
      "UndefVarError: weighted_sum not defined",
      "",
      "Stacktrace:",
      " [1] test_ws() at ./In[2]:15",
      " [2] top-level scope at In[3]:1"
     ]
    }
   ],
   "source": [
    "test_ws()"
   ]
  },
  {
   "cell_type": "markdown",
   "metadata": {
    "slideshow": {
     "slide_type": "slide"
    }
   },
   "source": [
    "## Some initial definition"
   ]
  },
  {
   "cell_type": "markdown",
   "metadata": {
    "slideshow": {
     "slide_type": "subslide"
    }
   },
   "source": [
    "Let's code an initial version of the `weighted_sum` function, using a simple `for` loop."
   ]
  },
  {
   "cell_type": "code",
   "execution_count": 4,
   "metadata": {
    "slideshow": {
     "slide_type": "fragment"
    }
   },
   "outputs": [
    {
     "data": {
      "text/plain": [
       "weighted_sum"
      ]
     },
     "execution_count": 4,
     "metadata": {},
     "output_type": "execute_result"
    }
   ],
   "source": [
    "\"\"\"\n",
    "    weighted_sum(a, X, b, Y)\n",
    "\n",
    "Compute `Z = a*X + b*Y`.\n",
    "\"\"\"\n",
    "function weighted_sum(a, X, b, Y)\n",
    "    \n",
    "    # Sanity check\n",
    "    n = length(X)\n",
    "    n == length(Y) || throw(DimensionMismatch(\n",
    "        \"X has size $n but Y has size $(length(Y))\"\n",
    "    ))\n",
    "    \n",
    "    Z = zeros(n)\n",
    "    \n",
    "    # Compute weighted sum\n",
    "    for i in 1:n\n",
    "        Z[i] = a * X[i] + b * Y[i]\n",
    "    end\n",
    "    \n",
    "    return Z\n",
    "end"
   ]
  },
  {
   "cell_type": "markdown",
   "metadata": {
    "slideshow": {
     "slide_type": "subslide"
    }
   },
   "source": [
    "Now we can run the test, and it passes"
   ]
  },
  {
   "cell_type": "code",
   "execution_count": 5,
   "metadata": {
    "slideshow": {
     "slide_type": "fragment"
    }
   },
   "outputs": [
    {
     "data": {
      "text/plain": [
       "\u001b[32m\u001b[1mTest Passed\u001b[22m\u001b[39m"
      ]
     },
     "execution_count": 5,
     "metadata": {},
     "output_type": "execute_result"
    }
   ],
   "source": [
    "# Execute the test\n",
    "test_ws()"
   ]
  },
  {
   "cell_type": "markdown",
   "metadata": {
    "slideshow": {
     "slide_type": "slide"
    }
   },
   "source": [
    "## Modifying the code"
   ]
  },
  {
   "cell_type": "markdown",
   "metadata": {
    "slideshow": {
     "slide_type": "fragment"
    }
   },
   "source": [
    "Notice that if $a=1$, then there is no need to compute the product `a*X[i]` (which is just equal to `X[i]`).\n",
    "\n",
    "This would save $n$ multiplications and make the function faster.\n",
    "\n",
    "Let's modify `weighted_sum` accordingly."
   ]
  },
  {
   "cell_type": "code",
   "execution_count": 6,
   "metadata": {
    "slideshow": {
     "slide_type": "subslide"
    }
   },
   "outputs": [
    {
     "data": {
      "text/plain": [
       "weighted_sum"
      ]
     },
     "execution_count": 6,
     "metadata": {},
     "output_type": "execute_result"
    }
   ],
   "source": [
    "\"\"\"\n",
    "    weighted_sum!(a, X, b, Y)\n",
    "\n",
    "Compute `Z = a*X + b*Y`. \n",
    "\"\"\"\n",
    "function weighted_sum(a, X::Vector, b, Y::Vector)\n",
    "    \n",
    "    # Sanity check\n",
    "    n = length(X)\n",
    "    n == length(Y) || throw(DimensionMismatch(\n",
    "        \"X has size $n but Y has size $(length(Y))\"\n",
    "    ))\n",
    "    \n",
    "    Z = zeros(n)\n",
    "    \n",
    "    # Compute weighted sum\n",
    "    if a == 1.0\n",
    "        for i in 1:n\n",
    "            Z[i] = X[i] - b * Y[i]  # /!\\ should have been X[i] + b * Y[i] /!\\\n",
    "        end\n",
    "        \n",
    "    else\n",
    "        for i in 1:n\n",
    "            Z[i] = a * X[i] + b * Y[i]\n",
    "        end\n",
    "    end\n",
    "    \n",
    "    return Z\n",
    "end"
   ]
  },
  {
   "cell_type": "markdown",
   "metadata": {
    "slideshow": {
     "slide_type": "subslide"
    }
   },
   "source": [
    "Notice the (intentional) mistake on line `18`.\n",
    "Obviously this is a bug, however it will not raise an error."
   ]
  },
  {
   "cell_type": "code",
   "execution_count": 7,
   "metadata": {
    "slideshow": {
     "slide_type": "fragment"
    }
   },
   "outputs": [
    {
     "data": {
      "text/plain": [
       "1-element Array{Float64,1}:\n",
       " -5.0"
      ]
     },
     "execution_count": 7,
     "metadata": {},
     "output_type": "execute_result"
    }
   ],
   "source": [
    "# The function runs smoothly, but the result is incorrect\n",
    "weighted_sum(1.0, [1.0], 2.0, [3.0])"
   ]
  },
  {
   "cell_type": "code",
   "execution_count": 8,
   "metadata": {
    "slideshow": {
     "slide_type": "fragment"
    }
   },
   "outputs": [
    {
     "name": "stdout",
     "output_type": "stream",
     "text": [
      "\u001b[91m\u001b[1mTest Failed\u001b[22m\u001b[39m at \u001b[39m\u001b[1mIn[2]:18\u001b[22m\n",
      "  Expression: Z == [9.0, 11.0]\n",
      "   Evaluated: [-7.0, -9.0] == [9.0, 11.0]\n"
     ]
    },
    {
     "ename": "Test.FallbackTestSetException",
     "evalue": "There was an error during testing",
     "output_type": "error",
     "traceback": [
      "There was an error during testing",
      "",
      "Stacktrace:",
      " [1] record(::Test.FallbackTestSet, ::Test.Fail) at /buildworker/worker/package_linux64/build/usr/share/julia/stdlib/v1.1/Test/src/Test.jl:707",
      " [2] do_test(::Test.Returned, ::Expr) at /buildworker/worker/package_linux64/build/usr/share/julia/stdlib/v1.1/Test/src/Test.jl:496",
      " [3] test_ws() at ./In[2]:18",
      " [4] top-level scope at In[8]:1"
     ]
    }
   ],
   "source": [
    "# This time the test will fail\n",
    "test_ws()"
   ]
  }
 ],
 "metadata": {
  "celltoolbar": "Slideshow",
  "kernelspec": {
   "display_name": "Julia 1.1.0",
   "language": "julia",
   "name": "julia-1.1"
  },
  "language_info": {
   "file_extension": ".jl",
   "mimetype": "application/julia",
   "name": "julia",
   "version": "1.1.0"
  }
 },
 "nbformat": 4,
 "nbformat_minor": 2
}
