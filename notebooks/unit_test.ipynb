{
 "cells": [
  {
   "cell_type": "markdown",
   "metadata": {},
   "source": [
    "# Unit testing"
   ]
  },
  {
   "cell_type": "markdown",
   "metadata": {},
   "source": [
    "<img src=\"img/xkcd_futureSelf.png\">"
   ]
  },
  {
   "cell_type": "markdown",
   "metadata": {},
   "source": [
    "## Unit tests in a nutshell\n",
    "\n",
    "**What is unit testing?**\n",
    "\n",
    "A way to systematically test individual pieces of your code.\n",
    "\n",
    "\n",
    "**Who uses it?**\n",
    "\n",
    "Any decent programmer.\n",
    "\n",
    "\n",
    "**Why is it useful?**\n",
    "\n",
    "It allows you to quickly spot bugs and unexpected behaviour, especially at later stages of a project.\n",
    "\n",
    "**How does it work?**\n",
    "\n",
    "See below :)"
   ]
  },
  {
   "cell_type": "markdown",
   "metadata": {},
   "source": [
    "# Writing tests"
   ]
  },
  {
   "cell_type": "markdown",
   "metadata": {},
   "source": [
    "Our code includes a function that takes two vectors $X$ and $Y$, two scalars $a$ and $b$, and computes the weighted sum $Z = aX + b Y$.\n",
    "\n",
    "This function will be called `weighted_sum`."
   ]
  },
  {
   "cell_type": "code",
   "execution_count": null,
   "metadata": {
    "collapsed": true
   },
   "outputs": [],
   "source": [
    "using LinearAlgebra\n",
    "using Test"
   ]
  },
  {
   "cell_type": "markdown",
   "metadata": {},
   "source": [
    "We know what the `weigthed_sum` behaviour should be, so we can write a test for it.\n",
    "\n",
    "The unit test will take two pairs of vectors and scalars, compute their weighted sum, and check the result."
   ]
  },
  {
   "cell_type": "code",
   "execution_count": null,
   "metadata": {},
   "outputs": [],
   "source": [
    "\"\"\"\n",
    "    test_ws()\n",
    "\n",
    "Perform a simple test of the `weighted_sum` function\n",
    "\"\"\"\n",
    "function test_ws()\n",
    "    \n",
    "    # Create some arbitrary data\n",
    "    a = 1.0\n",
    "    b = 2.0\n",
    "    X = [1.0, 1.0]\n",
    "    Y = [4.0, 5.0]\n",
    "\n",
    "    # Run the function on that test example\n",
    "    Z = weighted_sum(a, X, b, Y)\n",
    "\n",
    "    # Check that result is correct\n",
    "    @test Z == [9.0, 11.0]\n",
    "end"
   ]
  },
  {
   "cell_type": "markdown",
   "metadata": {},
   "source": [
    "Initially, the test fails, because the function does not exist yet"
   ]
  },
  {
   "cell_type": "code",
   "execution_count": null,
   "metadata": {},
   "outputs": [],
   "source": [
    "test_ws()"
   ]
  },
  {
   "cell_type": "markdown",
   "metadata": {},
   "source": [
    "## Some initial definition"
   ]
  },
  {
   "cell_type": "markdown",
   "metadata": {},
   "source": [
    "Let's code an initial version of the `weighted_sum` function, using a simple `for` loop."
   ]
  },
  {
   "cell_type": "code",
   "execution_count": null,
   "metadata": {},
   "outputs": [],
   "source": [
    "\"\"\"\n",
    "    weighted_sum(a, X, b, Y)\n",
    "\n",
    "Compute `Z = a*X + b*Y`.\n",
    "\"\"\"\n",
    "function weighted_sum(a, X, b, Y)\n",
    "    \n",
    "    # Sanity check\n",
    "    n = length(X)\n",
    "    n == length(Y) || throw(DimensionMismatch(\n",
    "        \"X has size $n but Y has size $(length(Y))\"\n",
    "    ))\n",
    "    \n",
    "    Z = zeros(n)\n",
    "    \n",
    "    # Compute weighted sum\n",
    "    for i in 1:n\n",
    "        Z[i] = a * X[i] + b * Y[i]\n",
    "    end\n",
    "    \n",
    "    return Z\n",
    "end"
   ]
  },
  {
   "cell_type": "markdown",
   "metadata": {},
   "source": [
    "Now we can run the test, and it passes"
   ]
  },
  {
   "cell_type": "code",
   "execution_count": null,
   "metadata": {},
   "outputs": [],
   "source": [
    "# Execute the test\n",
    "test_ws()"
   ]
  },
  {
   "cell_type": "markdown",
   "metadata": {},
   "source": [
    "## Modifying the code"
   ]
  },
  {
   "cell_type": "markdown",
   "metadata": {},
   "source": [
    "Notice that if $a=1$, then there is no need to compute the product `a*X[i]` (which is just equal to `X[i]`).\n",
    "\n",
    "This would save $n$ multiplications and make the function faster.\n",
    "\n",
    "Let's modify `weighted_sum` accordingly."
   ]
  },
  {
   "cell_type": "code",
   "execution_count": null,
   "metadata": {},
   "outputs": [],
   "source": [
    "\"\"\"\n",
    "    weighted_sum!(a, X, b, Y)\n",
    "\n",
    "Compute `Z = a*X + b*Y`. \n",
    "\"\"\"\n",
    "function weighted_sum(a, X::Vector, b, Y::Vector)\n",
    "    \n",
    "    # Sanity check\n",
    "    n = length(X)\n",
    "    n == length(Y) || throw(DimensionMismatch(\n",
    "        \"X has size $n but Y has size $(length(Y))\"\n",
    "    ))\n",
    "    \n",
    "    Z = zeros(n)\n",
    "    \n",
    "    # Compute weighted sum\n",
    "    if a == 1.0\n",
    "        for i in 1:n\n",
    "            Z[i] = X[i] - b * Y[i]  # /!\\ should have been X[i] + b * Y[i] /!\\\n",
    "        end\n",
    "        \n",
    "    else\n",
    "        for i in 1:n\n",
    "            Z[i] = a * X[i] + b * Y[i]\n",
    "        end\n",
    "    end\n",
    "    \n",
    "    return Z\n",
    "end"
   ]
  },
  {
   "cell_type": "markdown",
   "metadata": {},
   "source": [
    "Notice the (intentional) mistake on line `18`.\n",
    "Obviously this is a bug, however it will not raise an error."
   ]
  },
  {
   "cell_type": "code",
   "execution_count": null,
   "metadata": {},
   "outputs": [],
   "source": [
    "# The function runs smoothly, but the result is incorrect\n",
    "weighted_sum(1.0, [1.0], 2.0, [3.0])"
   ]
  },
  {
   "cell_type": "code",
   "execution_count": null,
   "metadata": {},
   "outputs": [],
   "source": [
    "# This time the test will fail\n",
    "test_ws()"
   ]
  }
 ],
 "metadata": {
  "kernelspec": {
   "display_name": "Julia 1.0.1",
   "language": "julia",
   "name": "julia-1.0"
  },
  "language_info": {
   "file_extension": ".jl",
   "mimetype": "application/julia",
   "name": "julia",
   "version": "1.0.1"
  }
 },
 "nbformat": 4,
 "nbformat_minor": 2
}
